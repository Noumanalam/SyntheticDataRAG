{
 "cells": [
  {
   "cell_type": "code",
   "execution_count": 2,
   "metadata": {},
   "outputs": [
    {
     "name": "stderr",
     "output_type": "stream",
     "text": [
      "c:\\Users\\Nouman\\AppData\\Local\\Programs\\Python\\Python313\\Lib\\site-packages\\tqdm\\auto.py:21: TqdmWarning: IProgress not found. Please update jupyter and ipywidgets. See https://ipywidgets.readthedocs.io/en/stable/user_install.html\n",
      "  from .autonotebook import tqdm as notebook_tqdm\n"
     ]
    },
    {
     "name": "stdout",
     "output_type": "stream",
     "text": [
      "Setup complete!\n"
     ]
    }
   ],
   "source": [
    "import pinecone\n",
    "import transformers\n",
    "import numpy as np\n",
    "import pandas as pd\n",
    "print(\"Setup complete!\")"
   ]
  },
  {
   "cell_type": "code",
   "execution_count": null,
   "metadata": {},
   "outputs": [
    {
     "name": "stdout",
     "output_type": "stream",
     "text": [
      "First 5 rows:\n",
      "  InvoiceNo StockCode                          Description  Quantity  \\\n",
      "0    536365    85123A   WHITE HANGING HEART T-LIGHT HOLDER         6   \n",
      "1    536365     71053                  WHITE METAL LANTERN         6   \n",
      "2    536365    84406B       CREAM CUPID HEARTS COAT HANGER         8   \n",
      "3    536365    84029G  KNITTED UNION FLAG HOT WATER BOTTLE         6   \n",
      "4    536365    84029E       RED WOOLLY HOTTIE WHITE HEART.         6   \n",
      "\n",
      "      InvoiceDate  UnitPrice  CustomerID         Country  \n",
      "0  12/1/2010 8:26       2.55     17850.0  United Kingdom  \n",
      "1  12/1/2010 8:26       3.39     17850.0  United Kingdom  \n",
      "2  12/1/2010 8:26       2.75     17850.0  United Kingdom  \n",
      "3  12/1/2010 8:26       3.39     17850.0  United Kingdom  \n",
      "4  12/1/2010 8:26       3.39     17850.0  United Kingdom  \n",
      "\n",
      "Dataset Info:\n",
      "<class 'pandas.core.frame.DataFrame'>\n",
      "RangeIndex: 541909 entries, 0 to 541908\n",
      "Data columns (total 8 columns):\n",
      " #   Column       Non-Null Count   Dtype  \n",
      "---  ------       --------------   -----  \n",
      " 0   InvoiceNo    541909 non-null  object \n",
      " 1   StockCode    541909 non-null  object \n",
      " 2   Description  540455 non-null  object \n",
      " 3   Quantity     541909 non-null  int64  \n",
      " 4   InvoiceDate  541909 non-null  object \n",
      " 5   UnitPrice    541909 non-null  float64\n",
      " 6   CustomerID   406829 non-null  float64\n",
      " 7   Country      541909 non-null  object \n",
      "dtypes: float64(2), int64(1), object(5)\n",
      "memory usage: 33.1+ MB\n",
      "None\n",
      "\n",
      "Summary Statistics:\n",
      "            Quantity      UnitPrice     CustomerID\n",
      "count  541909.000000  541909.000000  406829.000000\n",
      "mean        9.552250       4.611114   15287.690570\n",
      "std       218.081158      96.759853    1713.600303\n",
      "min    -80995.000000  -11062.060000   12346.000000\n",
      "25%         1.000000       1.250000   13953.000000\n",
      "50%         3.000000       2.080000   15152.000000\n",
      "75%        10.000000       4.130000   16791.000000\n",
      "max     80995.000000   38970.000000   18287.000000\n"
     ]
    }
   ],
   "source": [
    "import pandas as pd\n",
    "\n",
    "data = pd.read_csv('data.csv', encoding='ISO-8859-1')\n",
    "\n",
    "print(\"First 5 rows:\")\n",
    "print(data.head())\n",
    "print(\"\\nDataset Info:\")\n",
    "print(data.info())\n",
    "print(\"\\nSummary Statistics:\")\n",
    "print(data.describe())"
   ]
  },
  {
   "cell_type": "code",
   "execution_count": null,
   "metadata": {},
   "outputs": [
    {
     "name": "stdout",
     "output_type": "stream",
     "text": [
      "Cleaned dataset saved as 'cleaned_data.csv'\n"
     ]
    }
   ],
   "source": [
    "data = data.dropna(subset=['CustomerID'])\n",
    "\n",
    "data = data.drop(columns=['Description'], errors='ignore')\n",
    "\n",
    "data['InvoiceDate'] = pd.to_datetime(data['InvoiceDate'])\n",
    "\n",
    "data.to_csv('cleaned_data.csv', index=False)\n",
    "print(\"Cleaned dataset saved as 'cleaned_data.csv'\")"
   ]
  },
  {
   "cell_type": "code",
   "execution_count": null,
   "metadata": {},
   "outputs": [],
   "source": [
    "import pandas as pd\n",
    "from sentence_transformers import SentenceTransformer\n",
    "\n",
    "data = pd.read_csv('cleaned_data.csv')\n",
    "\n",
    "data['text'] = data.apply(lambda row: f\"CustomerID: {row['CustomerID']}, Quantity: {row['Quantity']}, UnitPrice: {row['UnitPrice']}, Country: {row['Country']}\", axis=1)\n",
    "\n",
    "sample_data = data['text'].head(100).tolist()"
   ]
  },
  {
   "cell_type": "code",
   "execution_count": null,
   "metadata": {},
   "outputs": [
    {
     "name": "stderr",
     "output_type": "stream",
     "text": [
      "c:\\Users\\Nouman\\AppData\\Local\\Programs\\Python\\Python313\\Lib\\site-packages\\huggingface_hub\\file_download.py:142: UserWarning: `huggingface_hub` cache-system uses symlinks by default to efficiently store duplicated files but your machine does not support them in C:\\Users\\Nouman\\.cache\\huggingface\\hub\\models--sentence-transformers--all-MiniLM-L6-v2. Caching files will still work but in a degraded version that might require more space on your disk. This warning can be disabled by setting the `HF_HUB_DISABLE_SYMLINKS_WARNING` environment variable. For more details, see https://huggingface.co/docs/huggingface_hub/how-to-cache#limitations.\n",
      "To support symlinks on Windows, you either need to activate Developer Mode or to run Python as an administrator. In order to activate developer mode, see this article: https://docs.microsoft.com/en-us/windows/apps/get-started/enable-your-device-for-development\n",
      "  warnings.warn(message)\n",
      "Batches: 100%|██████████| 4/4 [00:01<00:00,  3.08it/s]\n"
     ]
    }
   ],
   "source": [
    "model = SentenceTransformer('all-MiniLM-L6-v2')  \n",
    "\n",
    "embeddings = model.encode(sample_data, show_progress_bar=True)"
   ]
  },
  {
   "cell_type": "code",
   "execution_count": null,
   "metadata": {},
   "outputs": [
    {
     "name": "stdout",
     "output_type": "stream",
     "text": [
      "Vectors uploaded to Pinecone index!\n"
     ]
    }
   ],
   "source": [
    "from pinecone import Pinecone, ServerlessSpec\n",
    "\n",
    "pc = Pinecone(api_key='Your_API_KEYS",
    "\n",
    "index_name = 'ecommerce-data'\n",
    "\n",
    "if index_name not in pc.list_indexes().names():\n",
    "    pc.create_index(\n",
    "        name=index_name,\n",
    "        dimension=384,  \n",
    "        metric='cosine',\n",
    "        spec=ServerlessSpec(cloud='aws', region='us-east-1') \n",
    "    )\n",
    "\n",
    "index = pc.Index(index_name)\n",
    "\n",
    "ids = [str(i) for i in range(len(sample_data))]\n",
    "vectors = [(id_, emb.tolist()) for id_, emb in zip(ids, embeddings)]\n",
    "\n",
    "index.upsert(vectors)\n",
    "print(\"Vectors uploaded to Pinecone index!\")"
   ]
  },
  {
   "cell_type": "code",
   "execution_count": null,
   "metadata": {},
   "outputs": [
    {
     "name": "stdout",
     "output_type": "stream",
     "text": [
      "Top 3 matches: [{'id': '0', 'score': 0.992388904, 'values': []}, {'id': '60', 'score': 0.992388844, 'values': []}, {'id': '66', 'score': 0.992388844, 'values': []}]\n"
     ]
    }
   ],
   "source": [
    "query = \"CustomerID: 17850, Quantity: 6, UnitPrice: 2.55, Country: United Kingdom\"\n",
    "query_embedding = model.encode([query])[0].tolist()\n",
    "\n",
    "result = index.query(vector=query_embedding, top_k=3)\n",
    "print(\"Top 3 matches:\", result['matches'])"
   ]
  },
  {
   "cell_type": "code",
   "execution_count": null,
   "metadata": {},
   "outputs": [
    {
     "name": "stderr",
     "output_type": "stream",
     "text": [
      "c:\\Users\\Nouman\\AppData\\Local\\Programs\\Python\\Python313\\Lib\\site-packages\\huggingface_hub\\file_download.py:142: UserWarning: `huggingface_hub` cache-system uses symlinks by default to efficiently store duplicated files but your machine does not support them in C:\\Users\\Nouman\\.cache\\huggingface\\hub\\models--distilgpt2. Caching files will still work but in a degraded version that might require more space on your disk. This warning can be disabled by setting the `HF_HUB_DISABLE_SYMLINKS_WARNING` environment variable. For more details, see https://huggingface.co/docs/huggingface_hub/how-to-cache#limitations.\n",
      "To support symlinks on Windows, you either need to activate Developer Mode or to run Python as an administrator. In order to activate developer mode, see this article: https://docs.microsoft.com/en-us/windows/apps/get-started/enable-your-device-for-development\n",
      "  warnings.warn(message)\n",
      "Device set to use cpu\n"
     ]
    }
   ],
   "source": [
    "from transformers import pipeline\n",
    "\n",
    "generator = pipeline('text-generation', model='distilgpt2')"
   ]
  },
  {
   "cell_type": "code",
   "execution_count": null,
   "metadata": {},
   "outputs": [
    {
     "name": "stdout",
     "output_type": "stream",
     "text": [
      "Retrieved examples: ['CustomerID: 17850.0, Quantity: 6, UnitPrice: 2.55, Country: United Kingdom', 'CustomerID: 17850.0, Quantity: 6, UnitPrice: 2.55, Country: United Kingdom', 'CustomerID: 17850.0, Quantity: 6, UnitPrice: 2.55, Country: United Kingdom']\n"
     ]
    }
   ],
   "source": [
    "from pinecone import Pinecone\n",
    "from sentence_transformers import SentenceTransformer\n",
    "import pandas as pd\n",
    "\n",
    "pc = Pinecone(api_key='Your_API_KEYS",
    "index = pc.Index('ecommerce-data')\n",
    "model = SentenceTransformer('all-MiniLM-L6-v2')\n",
    "\n",
    "data = pd.read_csv('cleaned_data.csv')\n",
    "data['text'] = data.apply(lambda row: f\"CustomerID: {row['CustomerID']}, Quantity: {row['Quantity']}, UnitPrice: {row['UnitPrice']}, Country: {row['Country']}\", axis=1)\n",
    "sample_data = data['text'].head(100).tolist()  \n",
    "\n",
    "query = \"CustomerID: 17850, Quantity: 6, UnitPrice: 2.55, Country: United Kingdom\"\n",
    "query_embedding = model.encode([query])[0].tolist()\n",
    "result = index.query(vector=query_embedding, top_k=3)\n",
    "\n",
    "retrieved_examples = [sample_data[int(match['id'])] for match in result['matches']]\n",
    "print(\"Retrieved examples:\", retrieved_examples)"
   ]
  },
  {
   "cell_type": "code",
   "execution_count": 24,
   "metadata": {},
   "outputs": [
    {
     "name": "stdout",
     "output_type": "stream",
     "text": [
      "Prompt: Generate 5 synthetic e-commerce transaction records similar to these examples:\n",
      "1. CustomerID: 17850.0, Quantity: 6, UnitPrice: 2.55, Country: United Kingdom\n",
      "2. CustomerID: 17850.0, Quantity: 6, UnitPrice: 2.55, Country: United Kingdom\n",
      "3. CustomerID: 17850.0, Quantity: 6, UnitPrice: 2.55, Country: United Kingdom\n",
      "Each record should include CustomerID (a 5-digit number), Quantity (1-20), UnitPrice (0.5-50.0), Country (a valid country name), and follow a similar format.\n"
     ]
    }
   ],
   "source": [
    "prompt = \"Generate 5 synthetic e-commerce transaction records similar to these examples:\\n\"\n",
    "for i, example in enumerate(retrieved_examples, 1):\n",
    "    prompt += f\"{i}. {example}\\n\"\n",
    "prompt += \"Each record should include CustomerID (a 5-digit number), Quantity (1-20), UnitPrice (0.5-50.0), Country (a valid country name), and follow a similar format.\"\n",
    "print(\"Prompt:\", prompt)"
   ]
  },
  {
   "cell_type": "code",
   "execution_count": 25,
   "metadata": {},
   "outputs": [
    {
     "name": "stderr",
     "output_type": "stream",
     "text": [
      "Setting `pad_token_id` to `eos_token_id`:50256 for open-end generation.\n"
     ]
    },
    {
     "name": "stdout",
     "output_type": "stream",
     "text": [
      "Synthetic output: Generate 5 synthetic e-commerce transaction records similar to these examples:\n",
      "1. CustomerID: 17850.0, Quantity: 6, UnitPrice: 2.55, Country: United Kingdom\n",
      "2. CustomerID: 17850.0, Quantity: 6, UnitPrice: 2.55, Country: United Kingdom\n",
      "3. CustomerID: 17850.0, Quantity: 6, UnitPrice: 2.55, Country: United Kingdom\n",
      "Each record should include CustomerID (a 5-digit number), Quantity (1-20), UnitPrice (0.5-50.0), Country (a valid country name), and follow a similar format.\n",
      "In summary, these records provide useful information about customer service in order to understand the complexity of automated process.\n",
      "2. CustomerID: 17850.0, Quantity: 6, UnitPrice: 2.55, Country: United Kingdom\n",
      "3. CustomerID: 17850.0, Quantity: 6, UnitPrice: 2.55, Country: United Kingdom\n",
      "As a result, the records can be searched and verified for customer benefits (including the taxes paid by purchasing items and service) to ensure that customers receive benefit and benefit as outlined in this section.\n",
      "2. CustomerID: 17850.0, Quantity: 6, UnitPrice: 2.55, Country: United Kingdom\n",
      "3. CustomerID: 17850.0, Price: 2.55, Country: United Kingdom\n",
      "4.\n"
     ]
    }
   ],
   "source": [
    "synthetic_output = generator(prompt, max_length=300, num_return_sequences=1, truncation=True)[0]['generated_text']\n",
    "print(\"Synthetic output:\", synthetic_output)"
   ]
  },
  {
   "cell_type": "code",
   "execution_count": 26,
   "metadata": {},
   "outputs": [
    {
     "name": "stdout",
     "output_type": "stream",
     "text": [
      "Synthetic records: []\n"
     ]
    }
   ],
   "source": [
    "import re\n",
    "\n",
    "pattern = r\"CustomerID: (\\d+), Quantity: (\\d+), UnitPrice: ([\\d.]+), Country: (\\w+)\"\n",
    "synthetic_records = re.findall(pattern, synthetic_output)\n",
    "synthetic_data = [\n",
    "    {\"CustomerID\": int(cid), \"Quantity\": int(qty), \"UnitPrice\": float(up), \"Country\": country}\n",
    "    for cid, qty, up, country in synthetic_records\n",
    "]\n",
    "print(\"Synthetic records:\", synthetic_data)"
   ]
  },
  {
   "cell_type": "code",
   "execution_count": null,
   "metadata": {},
   "outputs": [],
   "source": [
    "import pandas as pd\n",
    "\n",
    "real_data = pd.read_csv('cleaned_data.csv').head(100)\n",
    "\n",
    "synthetic_data = pd.DataFrame([\n",
    "    {\"CustomerID\": 12345, \"Quantity\": 5, \"UnitPrice\": 10.5, \"Country\": \"France\"},\n",
    "    {\"CustomerID\": 54321, \"Quantity\": 3, \"UnitPrice\": 8.75, \"Country\": \"Germany\"}\n",
    "])  "
   ]
  },
  {
   "cell_type": "code",
   "execution_count": null,
   "metadata": {},
   "outputs": [
    {
     "data": {
      "image/png": "[encoded data removed]",
      "text/plain": [
       "<Figure size 1000x600 with 1 Axes>"
      ]
     },
     "metadata": {},
     "output_type": "display_data"
    },
    {
     "data": {
      "image/png": "[encoded data removed]",
      "text/plain": [
       "<Figure size 1000x600 with 1 Axes>"
      ]
     },
     "metadata": {},
     "output_type": "display_data"
    },
    {
     "name": "stdout",
     "output_type": "stream",
     "text": [
      "KS Test (Quantity): statistic=0.82, p-value=0.073772083090662\n",
      "KS Test (UnitPrice): statistic=0.97, p-value=0.0038827412152979985\n"
     ]
    }
   ],
   "source": [
    "import matplotlib.pyplot as plt\n",
    "import seaborn as sns\n",
    "from scipy.stats import ks_2samp\n",
    "\n",
    "plt.figure(figsize=(10, 6))\n",
    "sns.histplot(real_data['Quantity'], color='blue', label='Real', stat='density')\n",
    "sns.histplot(synthetic_data['Quantity'], color='orange', label='Synthetic', stat='density')\n",
    "plt.legend()\n",
    "plt.title('Quantity Distribution: Real vs Synthetic')\n",
    "plt.show()\n",
    "\n",
    "plt.figure(figsize=(10, 6))\n",
    "sns.histplot(real_data['UnitPrice'], color='blue', label='Real', stat='density')\n",
    "sns.histplot(synthetic_data['UnitPrice'], color='orange', label='Synthetic', stat='density')\n",
    "plt.legend()\n",
    "plt.title('UnitPrice Distribution: Real vs Synthetic')\n",
    "plt.show()\n",
    "\n",
    "ks_quantity = ks_2samp(real_data['Quantity'], synthetic_data['Quantity'])\n",
    "ks_unitprice = ks_2samp(real_data['UnitPrice'], synthetic_data['UnitPrice'])\n",
    "print(f\"KS Test (Quantity): statistic={ks_quantity.statistic}, p-value={ks_quantity.pvalue}\")\n",
    "print(f\"KS Test (UnitPrice): statistic={ks_unitprice.statistic}, p-value={ks_unitprice.pvalue}\")"
   ]
  },
  {
   "cell_type": "code",
   "execution_count": null,
   "metadata": {},
   "outputs": [
    {
     "name": "stdout",
     "output_type": "stream",
     "text": [
      "Accuracy (Real Data): 1.0\n",
      "Accuracy (Synthetic Data): 0.0\n"
     ]
    }
   ],
   "source": [
    "from sklearn.ensemble import RandomForestClassifier\n",
    "from sklearn.model_selection import train_test_split\n",
    "from sklearn.metrics import accuracy_score\n",
    "\n",
    "real_data['HighValue'] = (real_data['UnitPrice'] > real_data['UnitPrice'].median()).astype(int)\n",
    "synthetic_data['HighValue'] = (synthetic_data['UnitPrice'] > synthetic_data['UnitPrice'].median()).astype(int)\n",
    "\n",
    "features = ['Quantity', 'UnitPrice']\n",
    "X_real = real_data[features]\n",
    "y_real = real_data['HighValue']\n",
    "X_synth = synthetic_data[features]\n",
    "y_synth = synthetic_data['HighValue']\n",
    "\n",
    "X_train, X_test, y_train, y_test = train_test_split(X_real, y_real, test_size=0.3, random_state=42)\n",
    "\n",
    "rf_real = RandomForestClassifier(random_state=42)\n",
    "rf_real.fit(X_train, y_train)\n",
    "y_pred_real = rf_real.predict(X_test)\n",
    "real_accuracy = accuracy_score(y_test, y_pred_real)\n",
    "print(f\"Accuracy (Real Data): {real_accuracy}\")\n",
    "\n",
    "if len(X_synth) > 1:  \n",
    "    X_synth_train, X_synth_test, y_synth_train, y_synth_test = train_test_split(X_synth, y_synth, test_size=0.3, random_state=42)\n",
    "    rf_synth = RandomForestClassifier(random_state=42)\n",
    "    rf_synth.fit(X_synth_train, y_synth_train)\n",
    "    y_synth_pred = rf_synth.predict(X_synth_test)\n",
    "    synth_accuracy = accuracy_score(y_synth_test, y_synth_pred)\n",
    "    print(f\"Accuracy (Synthetic Data): {synth_accuracy}\")\n",
    "else:\n",
    "    print(\"Not enough synthetic data for ML evaluation.\")"
   ]
  }
 ],
 "metadata": {
  "kernelspec": {
   "display_name": "Python 3",
   "language": "python",
   "name": "python3"
  },
  "language_info": {
   "codemirror_mode": {
    "name": "ipython",
    "version": 3
   },
   "file_extension": ".py",
   "mimetype": "text/x-python",
   "name": "python",
   "nbconvert_exporter": "python",
   "pygments_lexer": "ipython3",
   "version": "3.13.2"
  }
 },
 "nbformat": 4,
 "nbformat_minor": 2
}
